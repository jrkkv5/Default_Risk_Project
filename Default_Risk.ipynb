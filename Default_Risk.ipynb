{
 "cells": [
  {
   "cell_type": "code",
   "execution_count": 1,
   "id": "d5113f7a",
   "metadata": {},
   "outputs": [],
   "source": [
    "# Import necessary packages/functions\n",
    "import pandas as pd\n",
    "import numpy as np\n",
    "from sklearn import tree\n",
    "from sklearn.model_selection import train_test_split\n",
    "from sklearn.metrics import accuracy_score\n",
    "import matplotlib.pyplot as plt"
   ]
  },
  {
   "cell_type": "code",
   "execution_count": 2,
   "id": "48447b82",
   "metadata": {},
   "outputs": [
    {
     "data": {
      "text/plain": [
       "Index(['FISCPER', 'SOLD_TO', 'AC_DOC_NO', 'ITEM_NUM', 'CREATED_ON',\n",
       "       'PAYMENT_METHOD', 'PAYMENT_TERMS', 'PAYMENT_BLOCK', 'CREDIT_LC',\n",
       "       'DAYS_ALLOWED', 'LOB', 'DEFAULTED'],\n",
       "      dtype='object')"
      ]
     },
     "execution_count": 2,
     "metadata": {},
     "output_type": "execute_result"
    }
   ],
   "source": [
    "#Reads in accounts receivable_file into df\n",
    "df_AR = pd.read_csv('accounts_receivable.csv')\n",
    "\n",
    "df_AR.columns"
   ]
  },
  {
   "cell_type": "code",
   "execution_count": 3,
   "id": "d43605d2",
   "metadata": {},
   "outputs": [
    {
     "data": {
      "text/plain": [
       "Index(['SOLD_TO', 'GROUP_KEY', 'CUST_CLASS', 'INDUSTRY', 'CREDITGRP', 'MARKET',\n",
       "       'SUB_MARKET', 'REC_CR_LM', 'RISK_CAT', 'REP_GROUP', 'CUST_GROUP',\n",
       "       'CUST_CREATEDON', 'NAICS', 'AVG_D2P'],\n",
       "      dtype='object')"
      ]
     },
     "execution_count": 3,
     "metadata": {},
     "output_type": "execute_result"
    }
   ],
   "source": [
    "#Reads in customer_data file into df\n",
    "df_CD = pd.read_csv('customer_data.csv')\n",
    "\n",
    "df_CD.columns"
   ]
  },
  {
   "cell_type": "code",
   "execution_count": 4,
   "id": "2f8f17e6",
   "metadata": {},
   "outputs": [
    {
     "data": {
      "text/plain": [
       "Index(['GROUP_KEY', 'FISCPER', 'sumTOTAL_CUST_SALES', 'avgTOTAL_CUST_SALES'], dtype='object')"
      ]
     },
     "execution_count": 4,
     "metadata": {},
     "output_type": "execute_result"
    }
   ],
   "source": [
    "#Reads in customer_sales_history file into df\n",
    "df_CS = pd.read_csv('customer_sales_history.csv')\n",
    "\n",
    "df_CS.columns"
   ]
  },
  {
   "cell_type": "code",
   "execution_count": null,
   "id": "a878efd4",
   "metadata": {},
   "outputs": [],
   "source": []
  }
 ],
 "metadata": {
  "kernelspec": {
   "display_name": "Python 3",
   "language": "python",
   "name": "python3"
  },
  "language_info": {
   "codemirror_mode": {
    "name": "ipython",
    "version": 3
   },
   "file_extension": ".py",
   "mimetype": "text/x-python",
   "name": "python",
   "nbconvert_exporter": "python",
   "pygments_lexer": "ipython3",
   "version": "3.8.8"
  }
 },
 "nbformat": 4,
 "nbformat_minor": 5
}
