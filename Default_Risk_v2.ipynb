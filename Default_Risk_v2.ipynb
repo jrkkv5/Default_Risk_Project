{
 "cells": [
  {
   "cell_type": "code",
   "execution_count": 1,
   "metadata": {},
   "outputs": [],
   "source": [
    "# Import necessary packages/functions\n",
    "import pandas as pd\n",
    "import numpy as np\n",
    "from sklearn import tree\n",
    "from sklearn.model_selection import train_test_split\n",
    "from sklearn.metrics import accuracy_score\n",
    "import matplotlib.pyplot as plt"
   ]
  },
  {
   "cell_type": "code",
   "execution_count": 3,
   "metadata": {},
   "outputs": [
    {
     "data": {
      "text/plain": [
       "Index(['FISCPER', 'SOLD_TO', 'AC_DOC_NO', 'ITEM_NUM', 'CREATED_ON',\n",
       "       'PAYMENT_METHOD', 'PAYMENT_TERMS', 'PAYMENT_BLOCK', 'CREDIT_LC',\n",
       "       'DAYS_ALLOWED', 'LOB', 'DEFAULTED'],\n",
       "      dtype='object')"
      ]
     },
     "execution_count": 3,
     "metadata": {},
     "output_type": "execute_result"
    }
   ],
   "source": [
    "#Reads in accounts receivable_file into df\n",
    "df_AR = pd.read_csv('accounts_receivable.csv')\n",
    "\n",
    "df_AR.columns"
   ]
  },
  {
   "cell_type": "code",
   "execution_count": 4,
   "metadata": {},
   "outputs": [
    {
     "data": {
      "text/plain": [
       "Index(['SOLD_TO', 'GROUP_KEY', 'CUST_CLASS', 'INDUSTRY', 'CREDITGRP', 'MARKET',\n",
       "       'SUB_MARKET', 'REC_CR_LM', 'RISK_CAT', 'REP_GROUP', 'CUST_GROUP',\n",
       "       'CUST_CREATEDON', 'NAICS', 'AVG_D2P'],\n",
       "      dtype='object')"
      ]
     },
     "execution_count": 4,
     "metadata": {},
     "output_type": "execute_result"
    }
   ],
   "source": [
    "#Reads in customer_data file into df\n",
    "df_CD = pd.read_csv('customer_data.csv')\n",
    "\n",
    "df_CD.columns"
   ]
  },
  {
   "cell_type": "code",
   "execution_count": 5,
   "metadata": {},
   "outputs": [
    {
     "data": {
      "text/plain": [
       "Index(['GROUP_KEY', 'FISCPER', 'sumTOTAL_CUST_SALES', 'avgTOTAL_CUST_SALES'], dtype='object')"
      ]
     },
     "execution_count": 5,
     "metadata": {},
     "output_type": "execute_result"
    }
   ],
   "source": [
    "#Reads in customer_sales_history file into df\n",
    "df_CS = pd.read_csv('customer_sales_history.csv')\n",
    "\n",
    "df_CS.columns"
   ]
  },
  {
   "cell_type": "code",
   "execution_count": 11,
   "metadata": {},
   "outputs": [
    {
     "data": {
      "text/plain": [
       "Index(['FISCPER_x', 'SOLD_TO', 'AC_DOC_NO', 'ITEM_NUM', 'CREATED_ON',\n",
       "       'PAYMENT_METHOD', 'PAYMENT_TERMS', 'PAYMENT_BLOCK', 'CREDIT_LC',\n",
       "       'DAYS_ALLOWED', 'LOB', 'DEFAULTED', 'GROUP_KEY', 'CUST_CLASS',\n",
       "       'INDUSTRY', 'CREDITGRP', 'MARKET', 'SUB_MARKET', 'REC_CR_LM',\n",
       "       'RISK_CAT', 'REP_GROUP', 'CUST_GROUP', 'CUST_CREATEDON', 'NAICS',\n",
       "       'AVG_D2P', 'FISCPER_y', 'sumTOTAL_CUST_SALES', 'avgTOTAL_CUST_SALES'],\n",
       "      dtype='object')"
      ]
     },
     "execution_count": 11,
     "metadata": {},
     "output_type": "execute_result"
    }
   ],
   "source": [
    "#merge three files\n",
    "merge1 = pd.merge(df_AR,df_CD, on=\"SOLD_TO\")\n",
    "df = pd.merge(merge1, df_CS, on = \"GROUP_KEY\")\n",
    "\n",
    "df.columns"
   ]
  },
  {
   "cell_type": "code",
   "execution_count": 20,
   "metadata": {},
   "outputs": [
    {
     "data": {
      "text/html": [
       "<div>\n",
       "<style scoped>\n",
       "    .dataframe tbody tr th:only-of-type {\n",
       "        vertical-align: middle;\n",
       "    }\n",
       "\n",
       "    .dataframe tbody tr th {\n",
       "        vertical-align: top;\n",
       "    }\n",
       "\n",
       "    .dataframe thead th {\n",
       "        text-align: right;\n",
       "    }\n",
       "</style>\n",
       "<table border=\"1\" class=\"dataframe\">\n",
       "  <thead>\n",
       "    <tr style=\"text-align: right;\">\n",
       "      <th></th>\n",
       "      <th>FISCPER_x</th>\n",
       "      <th>SOLD_TO</th>\n",
       "      <th>AC_DOC_NO</th>\n",
       "      <th>ITEM_NUM</th>\n",
       "      <th>CREATED_ON</th>\n",
       "      <th>PAYMENT_METHOD</th>\n",
       "      <th>PAYMENT_TERMS</th>\n",
       "      <th>PAYMENT_BLOCK</th>\n",
       "      <th>CREDIT_LC</th>\n",
       "      <th>DAYS_ALLOWED</th>\n",
       "      <th>...</th>\n",
       "      <th>REC_CR_LM</th>\n",
       "      <th>RISK_CAT</th>\n",
       "      <th>REP_GROUP</th>\n",
       "      <th>CUST_GROUP</th>\n",
       "      <th>CUST_CREATEDON</th>\n",
       "      <th>NAICS</th>\n",
       "      <th>AVG_D2P</th>\n",
       "      <th>FISCPER_y</th>\n",
       "      <th>sumTOTAL_CUST_SALES</th>\n",
       "      <th>avgTOTAL_CUST_SALES</th>\n",
       "    </tr>\n",
       "  </thead>\n",
       "  <tbody>\n",
       "    <tr>\n",
       "      <th>0</th>\n",
       "      <td>2009002</td>\n",
       "      <td>0a7dcbdb79686097c792db4d118c25785cbf5c4b567b20...</td>\n",
       "      <td>939609351</td>\n",
       "      <td>1</td>\n",
       "      <td>20090210</td>\n",
       "      <td>NaN</td>\n",
       "      <td>Z810</td>\n",
       "      <td>NaN</td>\n",
       "      <td>0.0</td>\n",
       "      <td>30</td>\n",
       "      <td>...</td>\n",
       "      <td>35612.0</td>\n",
       "      <td>MED</td>\n",
       "      <td>A17</td>\n",
       "      <td>NCS</td>\n",
       "      <td>20030327.0</td>\n",
       "      <td>443142.0</td>\n",
       "      <td>28.432073</td>\n",
       "      <td>2009002</td>\n",
       "      <td>4388.73</td>\n",
       "      <td>4388.73</td>\n",
       "    </tr>\n",
       "    <tr>\n",
       "      <th>1</th>\n",
       "      <td>2009002</td>\n",
       "      <td>0a7dcbdb79686097c792db4d118c25785cbf5c4b567b20...</td>\n",
       "      <td>939609351</td>\n",
       "      <td>1</td>\n",
       "      <td>20090210</td>\n",
       "      <td>NaN</td>\n",
       "      <td>Z810</td>\n",
       "      <td>NaN</td>\n",
       "      <td>0.0</td>\n",
       "      <td>30</td>\n",
       "      <td>...</td>\n",
       "      <td>35612.0</td>\n",
       "      <td>MED</td>\n",
       "      <td>A17</td>\n",
       "      <td>NCS</td>\n",
       "      <td>20030327.0</td>\n",
       "      <td>443142.0</td>\n",
       "      <td>28.432073</td>\n",
       "      <td>2017002</td>\n",
       "      <td>1369.36</td>\n",
       "      <td>1369.36</td>\n",
       "    </tr>\n",
       "    <tr>\n",
       "      <th>2</th>\n",
       "      <td>2009002</td>\n",
       "      <td>0a7dcbdb79686097c792db4d118c25785cbf5c4b567b20...</td>\n",
       "      <td>939609351</td>\n",
       "      <td>1</td>\n",
       "      <td>20090210</td>\n",
       "      <td>NaN</td>\n",
       "      <td>Z810</td>\n",
       "      <td>NaN</td>\n",
       "      <td>0.0</td>\n",
       "      <td>30</td>\n",
       "      <td>...</td>\n",
       "      <td>35612.0</td>\n",
       "      <td>MED</td>\n",
       "      <td>A17</td>\n",
       "      <td>NCS</td>\n",
       "      <td>20030327.0</td>\n",
       "      <td>443142.0</td>\n",
       "      <td>28.432073</td>\n",
       "      <td>2019002</td>\n",
       "      <td>19749.33</td>\n",
       "      <td>19749.33</td>\n",
       "    </tr>\n",
       "    <tr>\n",
       "      <th>3</th>\n",
       "      <td>2009002</td>\n",
       "      <td>0a7dcbdb79686097c792db4d118c25785cbf5c4b567b20...</td>\n",
       "      <td>939609351</td>\n",
       "      <td>1</td>\n",
       "      <td>20090210</td>\n",
       "      <td>NaN</td>\n",
       "      <td>Z810</td>\n",
       "      <td>NaN</td>\n",
       "      <td>0.0</td>\n",
       "      <td>30</td>\n",
       "      <td>...</td>\n",
       "      <td>35612.0</td>\n",
       "      <td>MED</td>\n",
       "      <td>A17</td>\n",
       "      <td>NCS</td>\n",
       "      <td>20030327.0</td>\n",
       "      <td>443142.0</td>\n",
       "      <td>28.432073</td>\n",
       "      <td>2017009</td>\n",
       "      <td>15412.52</td>\n",
       "      <td>15412.52</td>\n",
       "    </tr>\n",
       "    <tr>\n",
       "      <th>4</th>\n",
       "      <td>2009002</td>\n",
       "      <td>0a7dcbdb79686097c792db4d118c25785cbf5c4b567b20...</td>\n",
       "      <td>939609351</td>\n",
       "      <td>1</td>\n",
       "      <td>20090210</td>\n",
       "      <td>NaN</td>\n",
       "      <td>Z810</td>\n",
       "      <td>NaN</td>\n",
       "      <td>0.0</td>\n",
       "      <td>30</td>\n",
       "      <td>...</td>\n",
       "      <td>35612.0</td>\n",
       "      <td>MED</td>\n",
       "      <td>A17</td>\n",
       "      <td>NCS</td>\n",
       "      <td>20030327.0</td>\n",
       "      <td>443142.0</td>\n",
       "      <td>28.432073</td>\n",
       "      <td>2009009</td>\n",
       "      <td>746.22</td>\n",
       "      <td>746.22</td>\n",
       "    </tr>\n",
       "  </tbody>\n",
       "</table>\n",
       "<p>5 rows × 28 columns</p>\n",
       "</div>"
      ],
      "text/plain": [
       "   FISCPER_x                                            SOLD_TO  AC_DOC_NO  \\\n",
       "0    2009002  0a7dcbdb79686097c792db4d118c25785cbf5c4b567b20...  939609351   \n",
       "1    2009002  0a7dcbdb79686097c792db4d118c25785cbf5c4b567b20...  939609351   \n",
       "2    2009002  0a7dcbdb79686097c792db4d118c25785cbf5c4b567b20...  939609351   \n",
       "3    2009002  0a7dcbdb79686097c792db4d118c25785cbf5c4b567b20...  939609351   \n",
       "4    2009002  0a7dcbdb79686097c792db4d118c25785cbf5c4b567b20...  939609351   \n",
       "\n",
       "   ITEM_NUM  CREATED_ON PAYMENT_METHOD PAYMENT_TERMS PAYMENT_BLOCK  CREDIT_LC  \\\n",
       "0         1    20090210            NaN          Z810           NaN        0.0   \n",
       "1         1    20090210            NaN          Z810           NaN        0.0   \n",
       "2         1    20090210            NaN          Z810           NaN        0.0   \n",
       "3         1    20090210            NaN          Z810           NaN        0.0   \n",
       "4         1    20090210            NaN          Z810           NaN        0.0   \n",
       "\n",
       "   DAYS_ALLOWED  ...  REC_CR_LM  RISK_CAT REP_GROUP  CUST_GROUP  \\\n",
       "0            30  ...    35612.0       MED       A17         NCS   \n",
       "1            30  ...    35612.0       MED       A17         NCS   \n",
       "2            30  ...    35612.0       MED       A17         NCS   \n",
       "3            30  ...    35612.0       MED       A17         NCS   \n",
       "4            30  ...    35612.0       MED       A17         NCS   \n",
       "\n",
       "  CUST_CREATEDON     NAICS    AVG_D2P  FISCPER_y  sumTOTAL_CUST_SALES  \\\n",
       "0     20030327.0  443142.0  28.432073    2009002              4388.73   \n",
       "1     20030327.0  443142.0  28.432073    2017002              1369.36   \n",
       "2     20030327.0  443142.0  28.432073    2019002             19749.33   \n",
       "3     20030327.0  443142.0  28.432073    2017009             15412.52   \n",
       "4     20030327.0  443142.0  28.432073    2009009               746.22   \n",
       "\n",
       "  avgTOTAL_CUST_SALES  \n",
       "0             4388.73  \n",
       "1             1369.36  \n",
       "2            19749.33  \n",
       "3            15412.52  \n",
       "4              746.22  \n",
       "\n",
       "[5 rows x 28 columns]"
      ]
     },
     "execution_count": 20,
     "metadata": {},
     "output_type": "execute_result"
    }
   ],
   "source": [
    "df.head()"
   ]
  },
  {
   "cell_type": "code",
   "execution_count": null,
   "metadata": {},
   "outputs": [],
   "source": [
    "#df.rename(columns={\"A\": \"a\", \"B\": \"c\"}"
   ]
  },
  {
   "cell_type": "markdown",
   "metadata": {},
   "source": [
    "# Data cleaning"
   ]
  },
  {
   "cell_type": "code",
   "execution_count": 27,
   "metadata": {},
   "outputs": [],
   "source": [
    "# data cleaning\n",
    "# import packages\n",
    "import seaborn as sns\n",
    "import matplotlib.mlab as mlab\n",
    "import matplotlib\n",
    "\n",
    "# The \"ggplot\" style replicates a popular plotting style \n",
    "# from R (another open source coding language)\n",
    "plt.style.use('ggplot')\n",
    "from matplotlib.pyplot import figure\n",
    "\n",
    "# Set figure sizes as a parameter\n",
    "# \"rc\" = runtime configuration\n",
    "matplotlib.rcParams['figure.figsize'] = (12,8)"
   ]
  },
  {
   "cell_type": "code",
   "execution_count": 21,
   "metadata": {},
   "outputs": [
    {
     "name": "stdout",
     "output_type": "stream",
     "text": [
      "(1776203, 28)\n"
     ]
    }
   ],
   "source": [
    "# what are the dimensions? Use \".shape\"\n",
    "print(df.shape)"
   ]
  },
  {
   "cell_type": "code",
   "execution_count": 22,
   "metadata": {},
   "outputs": [
    {
     "name": "stdout",
     "output_type": "stream",
     "text": [
      "FISCPER_x                int64\n",
      "SOLD_TO                 object\n",
      "AC_DOC_NO                int64\n",
      "ITEM_NUM                 int64\n",
      "CREATED_ON               int64\n",
      "PAYMENT_METHOD          object\n",
      "PAYMENT_TERMS           object\n",
      "PAYMENT_BLOCK           object\n",
      "CREDIT_LC              float64\n",
      "DAYS_ALLOWED             int64\n",
      "LOB                    float64\n",
      "DEFAULTED                int64\n",
      "GROUP_KEY               object\n",
      "CUST_CLASS             float64\n",
      "INDUSTRY                object\n",
      "CREDITGRP               object\n",
      "MARKET                  object\n",
      "SUB_MARKET             float64\n",
      "REC_CR_LM              float64\n",
      "RISK_CAT                object\n",
      "REP_GROUP               object\n",
      "CUST_GROUP              object\n",
      "CUST_CREATEDON         float64\n",
      "NAICS                  float64\n",
      "AVG_D2P                float64\n",
      "FISCPER_y                int64\n",
      "sumTOTAL_CUST_SALES    float64\n",
      "avgTOTAL_CUST_SALES    float64\n",
      "dtype: object\n"
     ]
    }
   ],
   "source": [
    "# What are the data types?\n",
    "print(df.dtypes)"
   ]
  },
  {
   "cell_type": "code",
   "execution_count": 23,
   "metadata": {},
   "outputs": [
    {
     "name": "stdout",
     "output_type": "stream",
     "text": [
      "['FISCPER_x' 'AC_DOC_NO' 'ITEM_NUM' 'CREATED_ON' 'CREDIT_LC'\n",
      " 'DAYS_ALLOWED' 'LOB' 'DEFAULTED' 'CUST_CLASS' 'SUB_MARKET' 'REC_CR_LM'\n",
      " 'CUST_CREATEDON' 'NAICS' 'AVG_D2P' 'FISCPER_y' 'sumTOTAL_CUST_SALES'\n",
      " 'avgTOTAL_CUST_SALES']\n"
     ]
    }
   ],
   "source": [
    "# What data is numeric?\n",
    "# define a new data frame to include only numeric variables\n",
    "df_numeric = df.select_dtypes(include=[np.number])\n",
    "numeric_cols = df_numeric.columns.values\n",
    "print(numeric_cols)"
   ]
  },
  {
   "cell_type": "code",
   "execution_count": 24,
   "metadata": {},
   "outputs": [
    {
     "name": "stdout",
     "output_type": "stream",
     "text": [
      "['SOLD_TO' 'PAYMENT_METHOD' 'PAYMENT_TERMS' 'PAYMENT_BLOCK' 'GROUP_KEY'\n",
      " 'INDUSTRY' 'CREDITGRP' 'MARKET' 'RISK_CAT' 'REP_GROUP' 'CUST_GROUP']\n"
     ]
    }
   ],
   "source": [
    "# What data is non-numeric?\n",
    "# create a data frame of non-numeric data\n",
    "df_non_numeric = df.select_dtypes(exclude=[np.number])\n",
    "non_numeric_cols = df_non_numeric.columns.values\n",
    "print(non_numeric_cols)"
   ]
  },
  {
   "cell_type": "code",
   "execution_count": 28,
   "metadata": {},
   "outputs": [
    {
     "data": {
      "text/plain": [
       "<matplotlib.axes._subplots.AxesSubplot at 0x14104a67d08>"
      ]
     },
     "execution_count": 28,
     "metadata": {},
     "output_type": "execute_result"
    },
    {
     "data": {
      "image/png": "[encoded data removed]",
      "text/plain": [
       "<Figure size 864x576 with 2 Axes>"
      ]
     },
     "metadata": {},
     "output_type": "display_data"
    }
   ],
   "source": [
    "# Visualizations work better with a smaller number of features\n",
    "# We will use the first 30 columns, [:30]\n",
    "cols = df.columns[:30]\n",
    "\n",
    "#Specify colors: yellow will be missing. blue will be not missing\n",
    "colors = ['#000099', '#ffff00']\n",
    "\n",
    "# Call the heatmap function from seaborn package\n",
    "sns.heatmap(df[cols].isnull(), cmap=sns.color_palette(colors))\n"
   ]
  },
  {
   "cell_type": "code",
   "execution_count": 29,
   "metadata": {},
   "outputs": [
    {
     "name": "stdout",
     "output_type": "stream",
     "text": [
      "FISCPER_x - 0.0%\n",
      "SOLD_TO - 0.0%\n",
      "AC_DOC_NO - 0.0%\n",
      "ITEM_NUM - 0.0%\n",
      "CREATED_ON - 0.0%\n",
      "PAYMENT_METHOD - 99.0%\n",
      "PAYMENT_TERMS - 21.0%\n",
      "PAYMENT_BLOCK - 100.0%\n",
      "CREDIT_LC - 0.0%\n",
      "DAYS_ALLOWED - 0.0%\n",
      "LOB - 47.0%\n",
      "DEFAULTED - 0.0%\n",
      "GROUP_KEY - 0.0%\n",
      "CUST_CLASS - 6.0%\n",
      "INDUSTRY - 8.0%\n",
      "CREDITGRP - 80.0%\n",
      "MARKET - 29.0%\n",
      "SUB_MARKET - 29.0%\n",
      "REC_CR_LM - 0.0%\n",
      "RISK_CAT - 0.0%\n",
      "REP_GROUP - 0.0%\n",
      "CUST_GROUP - 47.0%\n",
      "CUST_CREATEDON - 0.0%\n",
      "NAICS - 47.0%\n",
      "AVG_D2P - 0.0%\n",
      "FISCPER_y - 0.0%\n",
      "sumTOTAL_CUST_SALES - 4.0%\n",
      "avgTOTAL_CUST_SALES - 4.0%\n"
     ]
    }
   ],
   "source": [
    "# Percent of missing\n",
    "for col in df.columns:\n",
    "    pct_missing = np.mean(df[col].isnull())\n",
    "    print('{} - {}%'.format(col, round(pct_missing*100)))"
   ]
  },
  {
   "cell_type": "code",
   "execution_count": 30,
   "metadata": {},
   "outputs": [
    {
     "name": "stdout",
     "output_type": "stream",
     "text": [
      "created missing indicator for: PAYMENT_METHOD\n",
      "created missing indicator for: PAYMENT_TERMS\n",
      "created missing indicator for: PAYMENT_BLOCK\n",
      "created missing indicator for: LOB\n",
      "created missing indicator for: GROUP_KEY\n",
      "created missing indicator for: CUST_CLASS\n",
      "created missing indicator for: INDUSTRY\n",
      "created missing indicator for: CREDITGRP\n",
      "created missing indicator for: MARKET\n",
      "created missing indicator for: SUB_MARKET\n",
      "created missing indicator for: REC_CR_LM\n",
      "created missing indicator for: RISK_CAT\n",
      "created missing indicator for: REP_GROUP\n",
      "created missing indicator for: CUST_GROUP\n",
      "created missing indicator for: CUST_CREATEDON\n",
      "created missing indicator for: NAICS\n",
      "created missing indicator for: sumTOTAL_CUST_SALES\n",
      "created missing indicator for: avgTOTAL_CUST_SALES\n"
     ]
    },
    {
     "data": {
      "text/plain": [
       "<matplotlib.axes._subplots.AxesSubplot at 0x14105dfea88>"
      ]
     },
     "execution_count": 30,
     "metadata": {},
     "output_type": "execute_result"
    },
    {
     "data": {
      "image/png": "[encoded data removed]",
      "text/plain": [
       "<Figure size 864x576 with 1 Axes>"
      ]
     },
     "metadata": {},
     "output_type": "display_data"
    }
   ],
   "source": [
    "# Create missing data histogram\n",
    "\n",
    "# First create missing indicator for features with missing data\n",
    "for col in df.columns:\n",
    "    missing = df[col].isnull()\n",
    "    num_missing = np.sum(missing)\n",
    "    \n",
    "    if num_missing > 0:\n",
    "        print('created missing indicator for: {}'.format(col))\n",
    "        df['{}_ismissing'.format(col)] = missing\n",
    "\n",
    "# Based on the indicator, plot the histogram of missing values\n",
    "ismissing_cols = [col for col in df.columns if 'ismissing' in col]\n",
    "df['num_missing'] = df[ismissing_cols ].sum(axis=1)\n",
    "\n",
    "df['num_missing'].value_counts().reset_index().sort_values(by='index').plot.bar(x='index', y='num_missing')"
   ]
  },
  {
   "cell_type": "code",
   "execution_count": 31,
   "metadata": {},
   "outputs": [],
   "source": [
    "# drop rows with a log of missing values\n",
    "ind_missing = df[df['num_missing']>35].index\n",
    "df_less_missing_rows = df.drop(ind_missing,axis=0)"
   ]
  },
  {
   "cell_type": "code",
   "execution_count": 37,
   "metadata": {},
   "outputs": [
    {
     "data": {
      "text/html": [
       "<div>\n",
       "<style scoped>\n",
       "    .dataframe tbody tr th:only-of-type {\n",
       "        vertical-align: middle;\n",
       "    }\n",
       "\n",
       "    .dataframe tbody tr th {\n",
       "        vertical-align: top;\n",
       "    }\n",
       "\n",
       "    .dataframe thead th {\n",
       "        text-align: right;\n",
       "    }\n",
       "</style>\n",
       "<table border=\"1\" class=\"dataframe\">\n",
       "  <thead>\n",
       "    <tr style=\"text-align: right;\">\n",
       "      <th></th>\n",
       "      <th>FISCPER_x</th>\n",
       "      <th>SOLD_TO</th>\n",
       "      <th>AC_DOC_NO</th>\n",
       "      <th>ITEM_NUM</th>\n",
       "      <th>CREATED_ON</th>\n",
       "      <th>PAYMENT_METHOD</th>\n",
       "      <th>PAYMENT_TERMS</th>\n",
       "      <th>PAYMENT_BLOCK</th>\n",
       "      <th>CREDIT_LC</th>\n",
       "      <th>DAYS_ALLOWED</th>\n",
       "      <th>...</th>\n",
       "      <th>SUB_MARKET_ismissing</th>\n",
       "      <th>REC_CR_LM_ismissing</th>\n",
       "      <th>RISK_CAT_ismissing</th>\n",
       "      <th>REP_GROUP_ismissing</th>\n",
       "      <th>CUST_GROUP_ismissing</th>\n",
       "      <th>CUST_CREATEDON_ismissing</th>\n",
       "      <th>NAICS_ismissing</th>\n",
       "      <th>sumTOTAL_CUST_SALES_ismissing</th>\n",
       "      <th>avgTOTAL_CUST_SALES_ismissing</th>\n",
       "      <th>num_missing</th>\n",
       "    </tr>\n",
       "  </thead>\n",
       "  <tbody>\n",
       "    <tr>\n",
       "      <th>0</th>\n",
       "      <td>2009002</td>\n",
       "      <td>0a7dcbdb79686097c792db4d118c25785cbf5c4b567b20...</td>\n",
       "      <td>939609351</td>\n",
       "      <td>1</td>\n",
       "      <td>20090210</td>\n",
       "      <td>NaN</td>\n",
       "      <td>Z810</td>\n",
       "      <td>NaN</td>\n",
       "      <td>0.0</td>\n",
       "      <td>30</td>\n",
       "      <td>...</td>\n",
       "      <td>False</td>\n",
       "      <td>False</td>\n",
       "      <td>False</td>\n",
       "      <td>False</td>\n",
       "      <td>False</td>\n",
       "      <td>False</td>\n",
       "      <td>False</td>\n",
       "      <td>False</td>\n",
       "      <td>False</td>\n",
       "      <td>3</td>\n",
       "    </tr>\n",
       "    <tr>\n",
       "      <th>1</th>\n",
       "      <td>2009002</td>\n",
       "      <td>0a7dcbdb79686097c792db4d118c25785cbf5c4b567b20...</td>\n",
       "      <td>939609351</td>\n",
       "      <td>1</td>\n",
       "      <td>20090210</td>\n",
       "      <td>NaN</td>\n",
       "      <td>Z810</td>\n",
       "      <td>NaN</td>\n",
       "      <td>0.0</td>\n",
       "      <td>30</td>\n",
       "      <td>...</td>\n",
       "      <td>False</td>\n",
       "      <td>False</td>\n",
       "      <td>False</td>\n",
       "      <td>False</td>\n",
       "      <td>False</td>\n",
       "      <td>False</td>\n",
       "      <td>False</td>\n",
       "      <td>False</td>\n",
       "      <td>False</td>\n",
       "      <td>3</td>\n",
       "    </tr>\n",
       "    <tr>\n",
       "      <th>2</th>\n",
       "      <td>2009002</td>\n",
       "      <td>0a7dcbdb79686097c792db4d118c25785cbf5c4b567b20...</td>\n",
       "      <td>939609351</td>\n",
       "      <td>1</td>\n",
       "      <td>20090210</td>\n",
       "      <td>NaN</td>\n",
       "      <td>Z810</td>\n",
       "      <td>NaN</td>\n",
       "      <td>0.0</td>\n",
       "      <td>30</td>\n",
       "      <td>...</td>\n",
       "      <td>False</td>\n",
       "      <td>False</td>\n",
       "      <td>False</td>\n",
       "      <td>False</td>\n",
       "      <td>False</td>\n",
       "      <td>False</td>\n",
       "      <td>False</td>\n",
       "      <td>False</td>\n",
       "      <td>False</td>\n",
       "      <td>3</td>\n",
       "    </tr>\n",
       "    <tr>\n",
       "      <th>3</th>\n",
       "      <td>2009002</td>\n",
       "      <td>0a7dcbdb79686097c792db4d118c25785cbf5c4b567b20...</td>\n",
       "      <td>939609351</td>\n",
       "      <td>1</td>\n",
       "      <td>20090210</td>\n",
       "      <td>NaN</td>\n",
       "      <td>Z810</td>\n",
       "      <td>NaN</td>\n",
       "      <td>0.0</td>\n",
       "      <td>30</td>\n",
       "      <td>...</td>\n",
       "      <td>False</td>\n",
       "      <td>False</td>\n",
       "      <td>False</td>\n",
       "      <td>False</td>\n",
       "      <td>False</td>\n",
       "      <td>False</td>\n",
       "      <td>False</td>\n",
       "      <td>False</td>\n",
       "      <td>False</td>\n",
       "      <td>3</td>\n",
       "    </tr>\n",
       "    <tr>\n",
       "      <th>4</th>\n",
       "      <td>2009002</td>\n",
       "      <td>0a7dcbdb79686097c792db4d118c25785cbf5c4b567b20...</td>\n",
       "      <td>939609351</td>\n",
       "      <td>1</td>\n",
       "      <td>20090210</td>\n",
       "      <td>NaN</td>\n",
       "      <td>Z810</td>\n",
       "      <td>NaN</td>\n",
       "      <td>0.0</td>\n",
       "      <td>30</td>\n",
       "      <td>...</td>\n",
       "      <td>False</td>\n",
       "      <td>False</td>\n",
       "      <td>False</td>\n",
       "      <td>False</td>\n",
       "      <td>False</td>\n",
       "      <td>False</td>\n",
       "      <td>False</td>\n",
       "      <td>False</td>\n",
       "      <td>False</td>\n",
       "      <td>3</td>\n",
       "    </tr>\n",
       "  </tbody>\n",
       "</table>\n",
       "<p>5 rows × 47 columns</p>\n",
       "</div>"
      ],
      "text/plain": [
       "   FISCPER_x                                            SOLD_TO  AC_DOC_NO  \\\n",
       "0    2009002  0a7dcbdb79686097c792db4d118c25785cbf5c4b567b20...  939609351   \n",
       "1    2009002  0a7dcbdb79686097c792db4d118c25785cbf5c4b567b20...  939609351   \n",
       "2    2009002  0a7dcbdb79686097c792db4d118c25785cbf5c4b567b20...  939609351   \n",
       "3    2009002  0a7dcbdb79686097c792db4d118c25785cbf5c4b567b20...  939609351   \n",
       "4    2009002  0a7dcbdb79686097c792db4d118c25785cbf5c4b567b20...  939609351   \n",
       "\n",
       "   ITEM_NUM  CREATED_ON PAYMENT_METHOD PAYMENT_TERMS PAYMENT_BLOCK  CREDIT_LC  \\\n",
       "0         1    20090210            NaN          Z810           NaN        0.0   \n",
       "1         1    20090210            NaN          Z810           NaN        0.0   \n",
       "2         1    20090210            NaN          Z810           NaN        0.0   \n",
       "3         1    20090210            NaN          Z810           NaN        0.0   \n",
       "4         1    20090210            NaN          Z810           NaN        0.0   \n",
       "\n",
       "   DAYS_ALLOWED  ...  SUB_MARKET_ismissing  REC_CR_LM_ismissing  \\\n",
       "0            30  ...                 False                False   \n",
       "1            30  ...                 False                False   \n",
       "2            30  ...                 False                False   \n",
       "3            30  ...                 False                False   \n",
       "4            30  ...                 False                False   \n",
       "\n",
       "  RISK_CAT_ismissing  REP_GROUP_ismissing CUST_GROUP_ismissing  \\\n",
       "0              False                False                False   \n",
       "1              False                False                False   \n",
       "2              False                False                False   \n",
       "3              False                False                False   \n",
       "4              False                False                False   \n",
       "\n",
       "  CUST_CREATEDON_ismissing NAICS_ismissing  sumTOTAL_CUST_SALES_ismissing  \\\n",
       "0                    False           False                          False   \n",
       "1                    False           False                          False   \n",
       "2                    False           False                          False   \n",
       "3                    False           False                          False   \n",
       "4                    False           False                          False   \n",
       "\n",
       "   avgTOTAL_CUST_SALES_ismissing num_missing  \n",
       "0                          False           3  \n",
       "1                          False           3  \n",
       "2                          False           3  \n",
       "3                          False           3  \n",
       "4                          False           3  \n",
       "\n",
       "[5 rows x 47 columns]"
      ]
     },
     "execution_count": 37,
     "metadata": {},
     "output_type": "execute_result"
    }
   ],
   "source": [
    "df_less_missing_rows.head()"
   ]
  },
  {
   "cell_type": "code",
   "execution_count": 39,
   "metadata": {},
   "outputs": [],
   "source": [
    "# Drop Missing value over 40%\n",
    "#PAYMENT_METHOD - 99.0%\n",
    "#PAYMENT_BLOCK - 100.0%\n",
    "#LOB - 47.0%\n",
    "#CREDITGRP - 80.0%\n",
    "#CUST_GROUP - 47.0%\n",
    "#NAICS - 47.0%\n",
    "\n",
    "# To drop this variable...\n",
    "cols_to_drop = ['PAYMENT_METHOD','PAYMENT_BLOCK','LOB','CREDITGRP','CUST_GROUP','NAICS']\n",
    "df_drop_missing = df.drop(cols_to_drop, axis=1)"
   ]
  },
  {
   "cell_type": "code",
   "execution_count": 42,
   "metadata": {},
   "outputs": [
    {
     "data": {
      "text/plain": [
       "Index(['FISCPER_x', 'SOLD_TO', 'AC_DOC_NO', 'ITEM_NUM', 'CREATED_ON',\n",
       "       'PAYMENT_TERMS', 'CREDIT_LC', 'DAYS_ALLOWED', 'DEFAULTED', 'GROUP_KEY',\n",
       "       'CUST_CLASS', 'INDUSTRY', 'MARKET', 'SUB_MARKET', 'REC_CR_LM',\n",
       "       'RISK_CAT', 'REP_GROUP', 'CUST_CREATEDON', 'AVG_D2P', 'FISCPER_y',\n",
       "       'sumTOTAL_CUST_SALES', 'avgTOTAL_CUST_SALES',\n",
       "       'PAYMENT_METHOD_ismissing', 'PAYMENT_TERMS_ismissing',\n",
       "       'PAYMENT_BLOCK_ismissing', 'LOB_ismissing', 'GROUP_KEY_ismissing',\n",
       "       'CUST_CLASS_ismissing', 'INDUSTRY_ismissing', 'CREDITGRP_ismissing',\n",
       "       'MARKET_ismissing', 'SUB_MARKET_ismissing', 'REC_CR_LM_ismissing',\n",
       "       'RISK_CAT_ismissing', 'REP_GROUP_ismissing', 'CUST_GROUP_ismissing',\n",
       "       'CUST_CREATEDON_ismissing', 'NAICS_ismissing',\n",
       "       'sumTOTAL_CUST_SALES_ismissing', 'avgTOTAL_CUST_SALES_ismissing',\n",
       "       'num_missing'],\n",
       "      dtype='object')"
      ]
     },
     "execution_count": 42,
     "metadata": {},
     "output_type": "execute_result"
    }
   ],
   "source": [
    "df_drop_missing.columns"
   ]
  },
  {
   "cell_type": "code",
   "execution_count": null,
   "metadata": {},
   "outputs": [],
   "source": []
  }
 ],
 "metadata": {
  "kernelspec": {
   "display_name": "Python 3",
   "language": "python",
   "name": "python3"
  },
  "language_info": {
   "codemirror_mode": {
    "name": "ipython",
    "version": 3
   },
   "file_extension": ".py",
   "mimetype": "text/x-python",
   "name": "python",
   "nbconvert_exporter": "python",
   "pygments_lexer": "ipython3",
   "version": "3.7.6"
  }
 },
 "nbformat": 4,
 "nbformat_minor": 5
}
